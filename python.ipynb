{
 "cells": [
  {
   "cell_type": "code",
   "execution_count": 363,
   "metadata": {},
   "outputs": [],
   "source": [
    "import pandas as pd\n",
    "import numpy  as np"
   ]
  },
  {
   "cell_type": "code",
   "execution_count": 364,
   "metadata": {},
   "outputs": [],
   "source": [
    "df_raw = pd.read_excel('Superstore.xlsx')\n",
    "df_raw1 = pd.read_excel('Superstore.xlsx', sheet_name=1)\n",
    "df_raw2 = pd.read_excel('Superstore.xlsx', sheet_name=2)"
   ]
  },
  {
   "cell_type": "code",
   "execution_count": 365,
   "metadata": {},
   "outputs": [
    {
     "data": {
      "text/plain": [
       "(Index(['Row ID', 'Order ID', 'Order Date', 'Ship Date', 'Ship Mode',\n",
       "        'Customer ID', 'Customer Name', 'Segment', 'Country/Region', 'City',\n",
       "        'State', 'Postal Code', 'Region', 'Product ID', 'Category',\n",
       "        'Sub-Category', 'Product Name', 'Sales', 'Quantity', 'Discount',\n",
       "        'Profit'],\n",
       "       dtype='object'),\n",
       " Index(['Regional Manager', 'Region'], dtype='object'),\n",
       " Index(['Returned', 'Order ID'], dtype='object'))"
      ]
     },
     "execution_count": 365,
     "metadata": {},
     "output_type": "execute_result"
    }
   ],
   "source": [
    "df_raw.columns, df_raw1.columns, df_raw2.columns"
   ]
  },
  {
   "cell_type": "code",
   "execution_count": 366,
   "metadata": {},
   "outputs": [
    {
     "name": "stdout",
     "output_type": "stream",
     "text": [
      "Row ID [2235 5275 8799 9147 9148 9149 9387 9388 9389 9390 9742]\n",
      "Order ID ['CA-2021-104066' 'CA-2019-162887' 'US-2020-150140' 'US-2020-165505'\n",
      " 'US-2021-127292' 'CA-2019-117086']\n",
      "Order Date ['2021-12-05T00:00:00.000000000' '2019-11-07T00:00:00.000000000'\n",
      " '2020-04-06T00:00:00.000000000' '2020-01-23T00:00:00.000000000'\n",
      " '2021-01-19T00:00:00.000000000' '2019-11-08T00:00:00.000000000']\n",
      "Ship Date ['2021-12-10T00:00:00.000000000' '2019-11-09T00:00:00.000000000'\n",
      " '2020-04-10T00:00:00.000000000' '2020-01-27T00:00:00.000000000'\n",
      " '2021-01-23T00:00:00.000000000' '2019-11-12T00:00:00.000000000']\n",
      "Ship Mode ['Standard Class' 'Second Class']\n",
      "Customer ID ['QJ-19255' 'SV-20785' 'VM-21685' 'CB-12535' 'RM-19375']\n",
      "Customer Name ['Quincy Jones' 'Stewart Visinsky' 'Valerie Mitchum' 'Claudia Bergmann'\n",
      " 'Raymond Messe']\n",
      "Segment ['Corporate' 'Consumer' 'Home Office']\n",
      "Country/Region ['United States']\n",
      "City ['Burlington']\n",
      "State ['Vermont']\n",
      "Postal Code [nan]\n",
      "Region ['East']\n",
      "Product ID ['TEC-AC-10001013' 'FUR-CH-10000595' 'TEC-PH-10002555' 'TEC-AC-10002926'\n",
      " 'OFF-AR-10003477' 'OFF-ST-10001526' 'OFF-PA-10000157' 'OFF-PA-10001970'\n",
      " 'OFF-AP-10000828' 'OFF-EN-10001509' 'FUR-BO-10004834']\n",
      "Category ['Technology' 'Furniture' 'Office Supplies']\n",
      "Sub-Category ['Accessories' 'Chairs' 'Phones' 'Art' 'Storage' 'Paper' 'Appliances'\n",
      " 'Envelopes' 'Bookcases']\n",
      "Product Name ['Logitech ClearChat Comfort/USB Headset H390'\n",
      " 'Safco Contoured Stacking Chairs' 'Nortel Meridian M5316 Digital phone'\n",
      " 'Logitech Wireless Marathon Mouse M705' '4009 Highlighters'\n",
      " 'Iceberg Mobile Mega Data/Printer Cart' 'Xerox 191' 'Xerox 1881'\n",
      " 'Avanti 4.4 Cu. Ft. Refrigerator' 'Poly String Tie Envelopes'\n",
      " 'Riverside Palais Royal Lawyers Bookcase, Royale Cherry Finish']\n",
      "Sales [2.05030e+02 7.15200e+02 1.29475e+03 9.99800e+01 8.04000e+00 1.56429e+03\n",
      " 7.99200e+01 1.22800e+01 5.42940e+02 2.04000e+00 4.40490e+03]\n",
      "Quantity [ 7  3  5  2  6 13  4  1]\n",
      "Discount [0.]\n",
      "Profit [6.765990e+01 1.788000e+02 3.366350e+02 4.299140e+01 2.733600e+00\n",
      " 4.067154e+02 3.756240e+01 5.771600e+00 1.520232e+02 9.588000e-01\n",
      " 1.013127e+03]\n"
     ]
    }
   ],
   "source": [
    "### check common factors of missing values\n",
    "for c in df_raw.columns:\n",
    "    print(c, df_raw[df_raw['Postal Code'].isna()][c].unique())"
   ]
  },
  {
   "cell_type": "code",
   "execution_count": 367,
   "metadata": {},
   "outputs": [
    {
     "data": {
      "text/plain": [
       "0"
      ]
     },
     "execution_count": 367,
     "metadata": {},
     "output_type": "execute_result"
    }
   ],
   "source": [
    "###repalce Country/Region ['United States'], City ['Burlington'], State ['Vermont']by 100000\n",
    "df_raw['Postal Code'] = df_raw['Postal Code'].replace(np.nan, 10000)\n",
    "df_raw['Postal Code'].isna().sum()"
   ]
  },
  {
   "cell_type": "code",
   "execution_count": 368,
   "metadata": {},
   "outputs": [],
   "source": [
    "### product names are wrong\n",
    "df_raw[['Product ID', 'Product Name']]\n",
    "for id in df_raw['Product ID'].unique():\n",
    "    #print(len(df_raw[df_raw['Product ID']==id]['Product Name'].unique()))\n",
    "    if len(df_raw[df_raw['Product ID']==id]['Product Name'].unique()) > 1 :\n",
    "        #print(df_raw[df_raw['Product ID'] == id]['Product Name'].mode().values[0])\n",
    "        df_raw.loc[df_raw['Product ID'] == id, 'Product Name'] = df_raw[df_raw['Product ID'] == id]['Product Name'].mode().values[0]\n",
    "        #print(df_raw[df_raw['Product ID'] == id][['Product ID', 'Product Name', 'Sub-Category']])\n",
    "        "
   ]
  },
  {
   "cell_type": "code",
   "execution_count": 369,
   "metadata": {},
   "outputs": [
    {
     "name": "stdout",
     "output_type": "stream",
     "text": [
      "check       Postal Code Region Country/Region       City       State\n",
      "481       92024.0   West  United States  San Diego  California\n",
      "1113      92024.0   West  United States  Encinitas  California\n",
      "Updated 481     San Diego\n",
      "594     San Diego\n",
      "595     San Diego\n",
      "596     San Diego\n",
      "597     San Diego\n",
      "1113    San Diego\n",
      "1114    San Diego\n",
      "1115    San Diego\n",
      "1543    San Diego\n",
      "1544    San Diego\n",
      "1551    San Diego\n",
      "1924    San Diego\n",
      "2259    San Diego\n",
      "2260    San Diego\n",
      "2606    San Diego\n",
      "2674    San Diego\n",
      "2819    San Diego\n",
      "2820    San Diego\n",
      "2946    San Diego\n",
      "2947    San Diego\n",
      "2948    San Diego\n",
      "3292    San Diego\n",
      "3293    San Diego\n",
      "3528    San Diego\n",
      "4396    San Diego\n",
      "5638    San Diego\n",
      "5639    San Diego\n",
      "6298    San Diego\n",
      "6672    San Diego\n",
      "6698    San Diego\n",
      "6699    San Diego\n",
      "6700    San Diego\n",
      "7189    San Diego\n",
      "7190    San Diego\n",
      "7918    San Diego\n",
      "8684    San Diego\n",
      "8955    San Diego\n",
      "9060    San Diego\n",
      "9061    San Diego\n",
      "Name: City, dtype: object 0    San Diego\n",
      "dtype: object\n"
     ]
    }
   ],
   "source": [
    "### Postal with worng location\n",
    "for id in df_raw['Postal Code'].unique():\n",
    "    if len(df_raw[df_raw['Postal Code']==id][['Region', 'Country/Region', 'City', 'State']].drop_duplicates()) > 1 :\n",
    "        print('check', df_raw[df_raw['Postal Code']==id][['Postal Code', 'Region', 'Country/Region', 'City', 'State']].drop_duplicates())\n",
    "        \n",
    "        df_raw.loc[df_raw['Postal Code'] == id, 'City'] = df_raw[df_raw['Postal Code'] == id]['City'].mode().values[0]\n",
    "        print('Updated', df_raw.loc[df_raw['Postal Code'] == id, 'City'], df_raw[df_raw['Postal Code'] == id]['City'].mode())\n"
   ]
  },
  {
   "cell_type": "code",
   "execution_count": 370,
   "metadata": {},
   "outputs": [
    {
     "name": "stdout",
     "output_type": "stream",
     "text": [
      "check          Order ID Customer ID       Product ID  Postal Code Order Date  \\\n",
      "0  CA-2020-152156    CG-12520  FUR-BO-10001798      42420.0 2020-11-08   \n",
      "1  CA-2020-152156    CG-12520  FUR-CH-10000454      42420.0 2020-11-08   \n",
      "\n",
      "    Sales  Quantity  Discount    Profit  \n",
      "0  261.96         2       0.0   41.9136  \n",
      "1  731.94         3       0.0  219.5820  \n",
      "Updated\n"
     ]
    }
   ],
   "source": [
    "for id in df_raw['Order ID'].unique():\n",
    "    if len(df_raw[df_raw['Order ID']==id][['Order ID', 'Customer ID', 'Product ID', 'Postal Code', 'Order Date', 'Sales', 'Quantity', 'Discount', 'Profit']].drop_duplicates()) > 1 :\n",
    "        print('check', df_raw[df_raw['Order ID']==id][['Order ID', 'Customer ID', 'Product ID', 'Postal Code', 'Order Date', 'Sales', 'Quantity', 'Discount', 'Profit']].drop_duplicates())\n",
    "        \n",
    "        #df_raw.loc[df_raw['Order ID'] == id, 'City'] = df_raw[df_raw['Order ID'] == id]['City'].mode().values[0]\n",
    "        print('Updated')\n",
    "\n",
    "        if True:\n",
    "            break"
   ]
  },
  {
   "cell_type": "code",
   "execution_count": 371,
   "metadata": {},
   "outputs": [],
   "source": [
    "df_raw['Product Name'].replace({r'[^\\x00-\\x7F]+':''}, regex=True, inplace=True)"
   ]
  },
  {
   "cell_type": "code",
   "execution_count": 372,
   "metadata": {},
   "outputs": [
    {
     "data": {
      "text/plain": [
       "0                       Bush Somerset Collection Bookcase\n",
       "1       Hon Deluxe Fabric Upholstered Stacking Chairs,...\n",
       "2       Self-Adhesive Address Labels for Typewriters b...\n",
       "3           Bretford CR4500 Series Slim Rectangular Table\n",
       "4                          Eldon Fold 'N Roll Cart System\n",
       "                              ...                        \n",
       "9989                               Ultra Door Pull Handle\n",
       "9990    Tenex B1-RE Series Chair Mats for Low Pile Car...\n",
       "9991                                Aastra 57i VoIP phone\n",
       "9992    It's Hot Message Books with Stickers, 2 3/4\" x 5\"\n",
       "9993    Acco 7-Outlet Masterpiece Power Center, Wihtou...\n",
       "Name: Product Name, Length: 9994, dtype: object"
      ]
     },
     "execution_count": 372,
     "metadata": {},
     "output_type": "execute_result"
    }
   ],
   "source": [
    "df_raw['Product Name']"
   ]
  },
  {
   "cell_type": "code",
   "execution_count": 378,
   "metadata": {},
   "outputs": [],
   "source": [
    "df_rm = df_raw1.to_csv('../data/rm.csv', index=False)\n",
    "\n",
    "df_add = df_raw[['Postal Code', 'Region', 'Country/Region', 'City', 'State']].drop_duplicates().to_csv('../data/address.csv', index=False)\n",
    "df_product = df_raw[['Product ID', 'Category', 'Sub-Category', 'Product Name']].drop_duplicates().to_csv('../data/product.csv', index=False)\n",
    "df_order = df_raw[['Order ID', 'Customer ID', 'Product ID', 'Postal Code', 'Order Date', 'Sales', 'Quantity', 'Discount', 'Profit']].to_csv('../data/order.csv', index=False)\n",
    "df_ship = df_raw[['Order ID', 'Ship Date', 'Ship Mode']].drop_duplicates().to_csv('../data/ship.csv', index=False)\n",
    "\n",
    "###think more\n",
    "\n",
    "df_cus = df_raw[['Customer ID', 'Customer Name', 'Segment']].drop_duplicates().to_csv('../data/customer.csv', index=False)\n",
    "\n",
    "df_re = df_raw2.drop_duplicates().to_csv('../data/return.csv', index=False)"
   ]
  },
  {
   "cell_type": "code",
   "execution_count": 374,
   "metadata": {},
   "outputs": [
    {
     "data": {
      "text/html": [
       "<div>\n",
       "<style scoped>\n",
       "    .dataframe tbody tr th:only-of-type {\n",
       "        vertical-align: middle;\n",
       "    }\n",
       "\n",
       "    .dataframe tbody tr th {\n",
       "        vertical-align: top;\n",
       "    }\n",
       "\n",
       "    .dataframe thead th {\n",
       "        text-align: right;\n",
       "    }\n",
       "</style>\n",
       "<table border=\"1\" class=\"dataframe\">\n",
       "  <thead>\n",
       "    <tr style=\"text-align: right;\">\n",
       "      <th></th>\n",
       "      <th>Order ID</th>\n",
       "      <th>Customer ID</th>\n",
       "      <th>Product ID</th>\n",
       "      <th>Postal Code</th>\n",
       "      <th>Order Date</th>\n",
       "      <th>Sales</th>\n",
       "      <th>Quantity</th>\n",
       "      <th>Discount</th>\n",
       "      <th>Profit</th>\n",
       "    </tr>\n",
       "  </thead>\n",
       "  <tbody>\n",
       "    <tr>\n",
       "      <th>2229</th>\n",
       "      <td>CA-2018-128055</td>\n",
       "      <td>AA-10315</td>\n",
       "      <td>OFF-BI-10004390</td>\n",
       "      <td>94122.0</td>\n",
       "      <td>2018-03-31</td>\n",
       "      <td>673.568</td>\n",
       "      <td>2</td>\n",
       "      <td>0.2</td>\n",
       "      <td>252.5880</td>\n",
       "    </tr>\n",
       "    <tr>\n",
       "      <th>1160</th>\n",
       "      <td>CA-2021-147039</td>\n",
       "      <td>AA-10315</td>\n",
       "      <td>OFF-BI-10004654</td>\n",
       "      <td>55407.0</td>\n",
       "      <td>2021-06-29</td>\n",
       "      <td>11.540</td>\n",
       "      <td>2</td>\n",
       "      <td>0.0</td>\n",
       "      <td>5.7700</td>\n",
       "    </tr>\n",
       "    <tr>\n",
       "      <th>2230</th>\n",
       "      <td>CA-2018-128055</td>\n",
       "      <td>AA-10315</td>\n",
       "      <td>OFF-AP-10002765</td>\n",
       "      <td>94122.0</td>\n",
       "      <td>2018-03-31</td>\n",
       "      <td>52.980</td>\n",
       "      <td>2</td>\n",
       "      <td>0.0</td>\n",
       "      <td>14.8344</td>\n",
       "    </tr>\n",
       "    <tr>\n",
       "      <th>1159</th>\n",
       "      <td>CA-2021-147039</td>\n",
       "      <td>AA-10315</td>\n",
       "      <td>OFF-AP-10000576</td>\n",
       "      <td>55407.0</td>\n",
       "      <td>2021-06-29</td>\n",
       "      <td>362.940</td>\n",
       "      <td>3</td>\n",
       "      <td>0.0</td>\n",
       "      <td>90.7350</td>\n",
       "    </tr>\n",
       "    <tr>\n",
       "      <th>7469</th>\n",
       "      <td>CA-2018-138100</td>\n",
       "      <td>AA-10315</td>\n",
       "      <td>FUR-FU-10002456</td>\n",
       "      <td>10011.0</td>\n",
       "      <td>2018-09-15</td>\n",
       "      <td>14.560</td>\n",
       "      <td>2</td>\n",
       "      <td>0.0</td>\n",
       "      <td>6.2608</td>\n",
       "    </tr>\n",
       "    <tr>\n",
       "      <th>...</th>\n",
       "      <td>...</td>\n",
       "      <td>...</td>\n",
       "      <td>...</td>\n",
       "      <td>...</td>\n",
       "      <td>...</td>\n",
       "      <td>...</td>\n",
       "      <td>...</td>\n",
       "      <td>...</td>\n",
       "      <td>...</td>\n",
       "    </tr>\n",
       "    <tr>\n",
       "      <th>8341</th>\n",
       "      <td>CA-2021-141481</td>\n",
       "      <td>ZD-21925</td>\n",
       "      <td>OFF-AP-10004532</td>\n",
       "      <td>90036.0</td>\n",
       "      <td>2021-06-11</td>\n",
       "      <td>61.440</td>\n",
       "      <td>3</td>\n",
       "      <td>0.0</td>\n",
       "      <td>16.5888</td>\n",
       "    </tr>\n",
       "    <tr>\n",
       "      <th>3040</th>\n",
       "      <td>US-2020-147991</td>\n",
       "      <td>ZD-21925</td>\n",
       "      <td>FUR-FU-10004270</td>\n",
       "      <td>37421.0</td>\n",
       "      <td>2020-05-05</td>\n",
       "      <td>16.720</td>\n",
       "      <td>5</td>\n",
       "      <td>0.2</td>\n",
       "      <td>3.3440</td>\n",
       "    </tr>\n",
       "    <tr>\n",
       "      <th>3815</th>\n",
       "      <td>CA-2020-152471</td>\n",
       "      <td>ZD-21925</td>\n",
       "      <td>OFF-PA-10004965</td>\n",
       "      <td>32216.0</td>\n",
       "      <td>2020-07-08</td>\n",
       "      <td>15.984</td>\n",
       "      <td>2</td>\n",
       "      <td>0.2</td>\n",
       "      <td>4.9950</td>\n",
       "    </tr>\n",
       "    <tr>\n",
       "      <th>5898</th>\n",
       "      <td>CA-2020-167682</td>\n",
       "      <td>ZD-21925</td>\n",
       "      <td>TEC-PH-10000673</td>\n",
       "      <td>47374.0</td>\n",
       "      <td>2020-04-03</td>\n",
       "      <td>259.960</td>\n",
       "      <td>4</td>\n",
       "      <td>0.0</td>\n",
       "      <td>124.7808</td>\n",
       "    </tr>\n",
       "    <tr>\n",
       "      <th>18</th>\n",
       "      <td>CA-2018-143336</td>\n",
       "      <td>ZD-21925</td>\n",
       "      <td>OFF-AR-10003056</td>\n",
       "      <td>94109.0</td>\n",
       "      <td>2018-08-27</td>\n",
       "      <td>8.560</td>\n",
       "      <td>2</td>\n",
       "      <td>0.0</td>\n",
       "      <td>2.4824</td>\n",
       "    </tr>\n",
       "  </tbody>\n",
       "</table>\n",
       "<p>9994 rows × 9 columns</p>\n",
       "</div>"
      ],
      "text/plain": [
       "            Order ID Customer ID       Product ID  Postal Code Order Date  \\\n",
       "2229  CA-2018-128055    AA-10315  OFF-BI-10004390      94122.0 2018-03-31   \n",
       "1160  CA-2021-147039    AA-10315  OFF-BI-10004654      55407.0 2021-06-29   \n",
       "2230  CA-2018-128055    AA-10315  OFF-AP-10002765      94122.0 2018-03-31   \n",
       "1159  CA-2021-147039    AA-10315  OFF-AP-10000576      55407.0 2021-06-29   \n",
       "7469  CA-2018-138100    AA-10315  FUR-FU-10002456      10011.0 2018-09-15   \n",
       "...              ...         ...              ...          ...        ...   \n",
       "8341  CA-2021-141481    ZD-21925  OFF-AP-10004532      90036.0 2021-06-11   \n",
       "3040  US-2020-147991    ZD-21925  FUR-FU-10004270      37421.0 2020-05-05   \n",
       "3815  CA-2020-152471    ZD-21925  OFF-PA-10004965      32216.0 2020-07-08   \n",
       "5898  CA-2020-167682    ZD-21925  TEC-PH-10000673      47374.0 2020-04-03   \n",
       "18    CA-2018-143336    ZD-21925  OFF-AR-10003056      94109.0 2018-08-27   \n",
       "\n",
       "        Sales  Quantity  Discount    Profit  \n",
       "2229  673.568         2       0.2  252.5880  \n",
       "1160   11.540         2       0.0    5.7700  \n",
       "2230   52.980         2       0.0   14.8344  \n",
       "1159  362.940         3       0.0   90.7350  \n",
       "7469   14.560         2       0.0    6.2608  \n",
       "...       ...       ...       ...       ...  \n",
       "8341   61.440         3       0.0   16.5888  \n",
       "3040   16.720         5       0.2    3.3440  \n",
       "3815   15.984         2       0.2    4.9950  \n",
       "5898  259.960         4       0.0  124.7808  \n",
       "18      8.560         2       0.0    2.4824  \n",
       "\n",
       "[9994 rows x 9 columns]"
      ]
     },
     "execution_count": 374,
     "metadata": {},
     "output_type": "execute_result"
    }
   ],
   "source": [
    "df_raw[['Order ID', 'Customer ID', 'Product ID', 'Postal Code', 'Order Date', 'Sales', 'Quantity', 'Discount', 'Profit']].sort_values(by='Customer ID')"
   ]
  },
  {
   "cell_type": "code",
   "execution_count": 375,
   "metadata": {},
   "outputs": [
    {
     "data": {
      "text/plain": [
       "5009"
      ]
     },
     "execution_count": 375,
     "metadata": {},
     "output_type": "execute_result"
    }
   ],
   "source": [
    "len(df_raw['Order ID'].unique())"
   ]
  },
  {
   "cell_type": "code",
   "execution_count": 376,
   "metadata": {},
   "outputs": [
    {
     "data": {
      "text/html": [
       "<div>\n",
       "<style scoped>\n",
       "    .dataframe tbody tr th:only-of-type {\n",
       "        vertical-align: middle;\n",
       "    }\n",
       "\n",
       "    .dataframe tbody tr th {\n",
       "        vertical-align: top;\n",
       "    }\n",
       "\n",
       "    .dataframe thead th {\n",
       "        text-align: right;\n",
       "    }\n",
       "</style>\n",
       "<table border=\"1\" class=\"dataframe\">\n",
       "  <thead>\n",
       "    <tr style=\"text-align: right;\">\n",
       "      <th></th>\n",
       "      <th>Customer ID</th>\n",
       "      <th>Customer Name</th>\n",
       "      <th>Segment</th>\n",
       "    </tr>\n",
       "  </thead>\n",
       "  <tbody>\n",
       "    <tr>\n",
       "      <th>1159</th>\n",
       "      <td>AA-10315</td>\n",
       "      <td>Alex Avila</td>\n",
       "      <td>Consumer</td>\n",
       "    </tr>\n",
       "    <tr>\n",
       "      <th>535</th>\n",
       "      <td>AA-10375</td>\n",
       "      <td>Allen Armold</td>\n",
       "      <td>Consumer</td>\n",
       "    </tr>\n",
       "    <tr>\n",
       "      <th>12</th>\n",
       "      <td>AA-10480</td>\n",
       "      <td>Andrew Allen</td>\n",
       "      <td>Consumer</td>\n",
       "    </tr>\n",
       "    <tr>\n",
       "      <th>4020</th>\n",
       "      <td>AA-10645</td>\n",
       "      <td>Anna Andreadi</td>\n",
       "      <td>Consumer</td>\n",
       "    </tr>\n",
       "    <tr>\n",
       "      <th>4961</th>\n",
       "      <td>AB-10015</td>\n",
       "      <td>Aaron Bergman</td>\n",
       "      <td>Consumer</td>\n",
       "    </tr>\n",
       "    <tr>\n",
       "      <th>...</th>\n",
       "      <td>...</td>\n",
       "      <td>...</td>\n",
       "      <td>...</td>\n",
       "    </tr>\n",
       "    <tr>\n",
       "      <th>481</th>\n",
       "      <td>XP-21865</td>\n",
       "      <td>Xylona Preis</td>\n",
       "      <td>Consumer</td>\n",
       "    </tr>\n",
       "    <tr>\n",
       "      <th>753</th>\n",
       "      <td>YC-21895</td>\n",
       "      <td>Yoseph Carroll</td>\n",
       "      <td>Corporate</td>\n",
       "    </tr>\n",
       "    <tr>\n",
       "      <th>1393</th>\n",
       "      <td>YS-21880</td>\n",
       "      <td>Yana Sorensen</td>\n",
       "      <td>Corporate</td>\n",
       "    </tr>\n",
       "    <tr>\n",
       "      <th>588</th>\n",
       "      <td>ZC-21910</td>\n",
       "      <td>Zuschuss Carroll</td>\n",
       "      <td>Consumer</td>\n",
       "    </tr>\n",
       "    <tr>\n",
       "      <th>18</th>\n",
       "      <td>ZD-21925</td>\n",
       "      <td>Zuschuss Donatelli</td>\n",
       "      <td>Consumer</td>\n",
       "    </tr>\n",
       "  </tbody>\n",
       "</table>\n",
       "<p>793 rows × 3 columns</p>\n",
       "</div>"
      ],
      "text/plain": [
       "     Customer ID       Customer Name    Segment\n",
       "1159    AA-10315          Alex Avila   Consumer\n",
       "535     AA-10375        Allen Armold   Consumer\n",
       "12      AA-10480        Andrew Allen   Consumer\n",
       "4020    AA-10645       Anna Andreadi   Consumer\n",
       "4961    AB-10015       Aaron Bergman   Consumer\n",
       "...          ...                 ...        ...\n",
       "481     XP-21865        Xylona Preis   Consumer\n",
       "753     YC-21895      Yoseph Carroll  Corporate\n",
       "1393    YS-21880       Yana Sorensen  Corporate\n",
       "588     ZC-21910    Zuschuss Carroll   Consumer\n",
       "18      ZD-21925  Zuschuss Donatelli   Consumer\n",
       "\n",
       "[793 rows x 3 columns]"
      ]
     },
     "execution_count": 376,
     "metadata": {},
     "output_type": "execute_result"
    }
   ],
   "source": [
    "df_raw[['Customer ID', 'Customer Name', 'Segment']].drop_duplicates().sort_values(by='Customer ID')"
   ]
  },
  {
   "cell_type": "code",
   "execution_count": 377,
   "metadata": {},
   "outputs": [],
   "source": [
    "df_raw.to_csv('../data/updated_dataset.csv', index=False)"
   ]
  },
  {
   "cell_type": "code",
   "execution_count": null,
   "metadata": {},
   "outputs": [],
   "source": []
  }
 ],
 "metadata": {
  "kernelspec": {
   "display_name": "Python 3.7.11 ('earth')",
   "language": "python",
   "name": "python3"
  },
  "language_info": {
   "codemirror_mode": {
    "name": "ipython",
    "version": 3
   },
   "file_extension": ".py",
   "mimetype": "text/x-python",
   "name": "python",
   "nbconvert_exporter": "python",
   "pygments_lexer": "ipython3",
   "version": "3.7.11"
  },
  "orig_nbformat": 4,
  "vscode": {
   "interpreter": {
    "hash": "3edc0f360be0f4c8c1c4d1a54bf8405796509dcc13fa77cfaf80abfeb9b0fc2a"
   }
  }
 },
 "nbformat": 4,
 "nbformat_minor": 2
}
